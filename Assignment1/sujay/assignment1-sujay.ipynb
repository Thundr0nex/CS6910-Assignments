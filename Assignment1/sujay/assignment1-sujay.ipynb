{
 "cells": [
  {
   "cell_type": "code",
   "execution_count": 1,
   "metadata": {},
   "outputs": [],
   "source": [
    "from copy import deepcopy\r\n",
    "import numpy as np \r\n",
    "from sklearn.datasets import make_classification\r\n",
    "\r\n",
    "from templates import AutoDiffFunction, Layer, Loss, Optimizer"
   ]
  },
  {
   "cell_type": "markdown",
   "metadata": {},
   "source": [
    "Defining the activation functions"
   ]
  },
  {
   "cell_type": "code",
   "execution_count": 3,
   "metadata": {},
   "outputs": [],
   "source": [
    "class Sigmoid(AutoDiffFunction):\n",
    "    def __init__(self) -> None:\n",
    "        super().__init__()\n",
    "\n",
    "    def forward(self, x):\n",
    "        self.saved_for_backward = 1/(1 + np.exp(-x))\n",
    "        return self.saved_for_backward\n",
    "\n",
    "    def compute_grad(self, x):\n",
    "        y = self.saved_for_backward\n",
    "\n",
    "        return {\"x\": y*(1-y)}\n",
    "\n",
    "    def backward(self, dy):\n",
    "        return dy * self.grad[\"x\"]      \n",
    "\n",
    "\n",
    "class RelU(AutoDiffFunction):\n",
    "    def __init__(self) -> None:\n",
    "        super().__init__()\n",
    "\n",
    "    def forward(self, x):\n",
    "        self.saved_for_backward = np.where(x>0.0, 1.0, 0.0)\n",
    "\n",
    "        return x * self.saved_for_backward\n",
    "\n",
    "    def compute_grad(self, x):\n",
    "        return {\"x\": self.saved_for_backward}\n",
    "\n",
    "    def backward(self, dy):\n",
    "        return dy * self.grad[\"x\"]\n",
    "     \n",
    "class Softmax(AutoDiffFunction):\n",
    "    def __init__(self) -> None:\n",
    "        super().__init__()\n",
    "\n",
    "    def forward(self, x):\n",
    "        v = np.exp(x)\n",
    "        self.saved_for_backward = v\n",
    "\n",
    "        return v / np.sum(v, axis=1, keepdims=True)\n",
    "\n",
    "    def compute_grad(self, x):\n",
    "        pass\n",
    "\n",
    "    def backward(self, dy):\n",
    "        return dy * self.grad[\"x\"]\n"
   ]
  },
  {
   "cell_type": "markdown",
   "metadata": {},
   "source": [
    "Defining the layers"
   ]
  },
  {
   "cell_type": "code",
   "execution_count": 4,
   "metadata": {},
   "outputs": [],
   "source": [
    "class FC(Layer):\n",
    "    def __init__(self, in_dim, out_dim) -> None:\n",
    "        super().__init__()\n",
    "        self.initialize_weights(in_dim, out_dim)\n",
    "\n",
    "    def initialize_weights(self, in_dim, out_dim):\n",
    "        \n",
    "        self.weights[\"w\"] = np.random.randn(in_dim, out_dim)\n",
    "        self.weights[\"b\"] = np.random.randn(1, out_dim)\n",
    "\n",
    "    def compute_grad(self, x):\n",
    "        \n",
    "        gradients = {}\n",
    "\n",
    "        # y = x * w + b        \n",
    "        # we compute gradients wrt w and x \n",
    "        # gradient wrt b is not required explicitly since we know that it's value is 1\n",
    "        gradients[\"w\"] = self.saved_for_backward[\"x\"].T\n",
    "        gradients[\"x\"] = self.weights[\"w\"].T\n",
    "\n",
    "        return gradients\n",
    "\n",
    "\n",
    "    def forward(self, x):\n",
    "        \n",
    "        output = x @ self.weights[\"w\"] + self.weights[\"b\"]\n",
    "        self.saved_for_backward[\"x\"] = x\n",
    "        \n",
    "        return output\n",
    "\n",
    "    def backward(self, dy):\n",
    "        #print(dy.shape)\n",
    "        #print(self.grad[\"x\"].shape)\n",
    "        #print(self.grad[\"w\"].shape)\n",
    "        \n",
    "        dx = dy @ self.grad[\"x\"]\n",
    "        \n",
    "        # calculating gradients wrt weights\n",
    "        dw = self.grad[\"w\"] @ dy\n",
    "        db = np.sum(dy, axis=0, keepdims=True)\n",
    "\n",
    "        self.absolute_gradients = {\"w\": dw, \"b\": db}\n",
    "\n",
    "        return dx\n",
    "\n",
    "    def update_weights(self):\n",
    "        self.optimizer.step(self)"
   ]
  },
  {
   "cell_type": "markdown",
   "metadata": {},
   "source": [
    "Defining the loss function\n",
    "\n",
    "For this particular problem, we require CrossEntropy Loss for classification"
   ]
  },
  {
   "cell_type": "code",
   "execution_count": 5,
   "metadata": {},
   "outputs": [
    {
     "name": "stdout",
     "output_type": "stream",
     "text": [
      "[[ 0.0618754 -0.        -0.       ]\n",
      " [-0.         0.4462871 -0.       ]]\n",
      "[0.0618754 0.4462871]\n",
      "0.2540812531732535\n"
     ]
    }
   ],
   "source": [
    "x = np.array([[0.94, 0.04, 0.02],[0.3, 0.64, 0.06]])\n",
    "\n",
    "y = np.array([[1,0,0],[0,1,0]])\n",
    "\n",
    "z = -y * np.log(x)\n",
    "print(z)\n",
    "z = np.sum(z, axis=1)\n",
    "print(z)\n",
    "print(np.mean(z))"
   ]
  },
  {
   "cell_type": "code",
   "execution_count": 6,
   "metadata": {},
   "outputs": [],
   "source": [
    "class CrossEntropyLossFromLogits(Loss):\n",
    "\n",
    "    @staticmethod\n",
    "    def softmax(x):\n",
    "        v = np.exp(x)\n",
    "\n",
    "        return v / np.sum(v, axis=1, keepdims=True)\n",
    "\n",
    "    @staticmethod\n",
    "    def encode(y): \n",
    "        d = len(np.unique(y))\n",
    "        encoded_y = np.zeros(shape=(len(y), d))\n",
    "\n",
    "        for i in range(len(y)):\n",
    "            encoded_y[i,y[i]] = 1\n",
    "\n",
    "        return encoded_y\n",
    "\n",
    "    def forward(self, y_pred, y_true):\n",
    "         \n",
    "        probabilities = self.softmax(y_pred)\n",
    "        y_true_encoded = self.encode(y_true)\n",
    "\n",
    "        loss_value = np.mean(np.sum(- y_true_encoded * np.log(probabilities), axis=1))\n",
    "\n",
    "        self.saved_for_backward[\"probabilities\"] = probabilities\n",
    "        self.saved_for_backward[\"y_true\"] = y_true_encoded\n",
    "\n",
    "        return loss_value\n",
    "\n",
    "    def compute_grad(self, y_pred, y_true):\n",
    "\n",
    "        return {\"x\": self.saved_for_backward[\"probabilities\"] - self.saved_for_backward[\"y_true\"]}        "
   ]
  },
  {
   "cell_type": "markdown",
   "metadata": {},
   "source": [
    "Creating an optimizer for the loss"
   ]
  },
  {
   "cell_type": "code",
   "execution_count": 7,
   "metadata": {},
   "outputs": [],
   "source": [
    "class SGD(Optimizer):\r\n",
    "    def __init__(self, lr, batch_size=32, lamda=0):\r\n",
    "        self.lr = lr\r\n",
    "        self.lamda = lamda\r\n",
    "        self.batch_size = batch_size\r\n",
    "\r\n",
    "\r\n",
    "    def step(self, layer):\r\n",
    "\r\n",
    "        ## adding 2*lambda*w /m to gradient if regularisation is there\r\n",
    "        for grad_name, _ in layer.absolute_gradients.items():\r\n",
    "            layer.absolute_gradients[grad_name] = layer.absolute_gradients[grad_name] + \\\r\n",
    "                                                        2 * self.lamda / self.batch_size * layer.weights[grad_name]\r\n",
    "\r\n",
    "\r\n",
    "        for weight_name, _ in layer.weights.items():\r\n",
    "            layer.weights[weight_name] = layer.weights[weight_name] - self.lr * layer.absolute_gradients[weight_name]\r\n"
   ]
  },
  {
   "cell_type": "markdown",
   "metadata": {},
   "source": [
    "Creating the structure for an actual neural network"
   ]
  },
  {
   "cell_type": "code",
   "execution_count": 8,
   "metadata": {},
   "outputs": [],
   "source": [
    "class NeuralNet():\n",
    "    def __init__(self, layers) -> None:\n",
    "        self.layers = layers\n",
    "\n",
    "    def __call__(self, *args, **kwds):\n",
    "        return self.forward(*args, **kwds)\n",
    "\n",
    "    def compile(self, loss, optimizer):\n",
    "        self.loss = loss\n",
    "\n",
    "        for layer in self.layers:\n",
    "            if isinstance(layer, Layer):\n",
    "                layer.optimizer = deepcopy(optimizer)\n",
    "\n",
    "    def calculate_loss(self, y_pred, y_true):\n",
    "        return self.loss(y_pred, y_true)\n",
    "\n",
    "    def forward(self, x):\n",
    "        for layer in self.layers:\n",
    "            x = layer(x)\n",
    "\n",
    "        return x\n",
    "\n",
    "    def backward(self):\n",
    "\n",
    "        gradient = self.loss.backward()\n",
    "        for layer in reversed(self.layers):\n",
    "            gradient = layer.backward(gradient)\n",
    "\n",
    "        return gradient\n",
    "\n",
    "    def update_weights(self):\n",
    "\n",
    "        for layer in reversed(self.layers):\n",
    "            if isinstance(layer, Layer):\n",
    "                layer.update_weights()"
   ]
  },
  {
   "cell_type": "markdown",
   "metadata": {},
   "source": [
    "Create a custom classification dataset to test out the function <br> dsdsd"
   ]
  },
  {
   "cell_type": "code",
   "execution_count": 9,
   "metadata": {},
   "outputs": [],
   "source": [
    "## creating a dummy dataset to test out stuff ##\n",
    "\n",
    "X, y = make_classification(n_samples=32*6, n_features=20, n_informative=15, n_classes=3)\n",
    "\n",
    "def create_batches(X, y, batch_size=32):\n",
    "    batches = []\n",
    "\n",
    "    for i in range(len(y) // batch_size):\n",
    "        start_idx = batch_size * i\n",
    "        end_idx = batch_size * (i + 1)\n",
    "\n",
    "        batches.append([X[start_idx: end_idx], y[start_idx: end_idx]])\n",
    "\n",
    "    return batches"
   ]
  },
  {
   "cell_type": "code",
   "execution_count": 10,
   "metadata": {},
   "outputs": [
    {
     "data": {
      "text/plain": "6"
     },
     "execution_count": 10,
     "metadata": {},
     "output_type": "execute_result"
    }
   ],
   "source": [
    "## Utility functions ##\n",
    "def probs_to_labels(y): \n",
    "    return np.argmax(y, axis=1)\n",
    "\n",
    "\n",
    "def encoded_to_labels(y):\n",
    "    return np.where(y==1)[1]\n",
    "\n",
    "def accuracy_score(y_pred, y_true):\n",
    "\n",
    "    pred_labels = probs_to_labels(y_pred)\n",
    "\n",
    "    return np.sum(pred_labels == y_true) / len(y_true)\n",
    "\n",
    "batches = create_batches(X, y, batch_size=32)\n",
    "len(batches)"
   ]
  },
  {
   "cell_type": "code",
   "execution_count": 11,
   "metadata": {},
   "outputs": [],
   "source": [
    "model = NeuralNet([FC(20, 32), RelU(), FC(32, 3)])\r\n",
    "optimizer = SGD(lr = 0.001)\r\n",
    "\r\n",
    "def fit_model(model, batches, optimizer, epochs=10):\r\n",
    "\r\n",
    "    training_stats = []\r\n",
    "    num_batches = len(batches)\r\n",
    " \r\n",
    "    loss = CrossEntropyLossFromLogits()\r\n",
    "    model.compile(loss=loss, optimizer=optimizer)\r\n",
    "\r\n",
    "    for epoch in range(1, epochs+1):\r\n",
    "\r\n",
    "        total_loss = 0\r\n",
    "        total_accuracy = 0\r\n",
    "\r\n",
    "        for X, y in batches:\r\n",
    "\r\n",
    "            preds = model(X)\r\n",
    "            total_loss += model.loss(preds, y)\r\n",
    "            total_accuracy += accuracy_score(preds, y)\r\n",
    "\r\n",
    "            _ = model.backward()\r\n",
    "            model.update_weights()\r\n",
    "\r\n",
    "        loss_per_epoch = total_loss / num_batches\r\n",
    "        accuracy = total_accuracy / num_batches\r\n",
    "\r\n",
    "        print(f\"Epoch: {epoch} Train Loss: {loss_per_epoch} Train Accuracy: {accuracy}\")\r\n",
    "\r\n",
    "        training_stats.append({\"Epoch\" : epoch, \r\n",
    "                                \"Train Loss\": loss_per_epoch,\r\n",
    "                                \"Train Accuracy\": accuracy})\r\n",
    "\r\n",
    "    \r\n",
    "    return training_stats"
   ]
  },
  {
   "cell_type": "code",
   "execution_count": 12,
   "metadata": {},
   "outputs": [
    {
     "name": "stdout",
     "output_type": "stream",
     "text": [
      "Epoch: 1 Train Loss: 29.448115256346853 Train Accuracy: 0.25\n",
      "Epoch: 2 Train Loss: 13.17212778896831 Train Accuracy: 0.421875\n",
      "Epoch: 3 Train Loss: 8.732543728830704 Train Accuracy: 0.4895833333333333\n",
      "Epoch: 4 Train Loss: 6.217308470854779 Train Accuracy: 0.5989583333333334\n",
      "Epoch: 5 Train Loss: 4.7835755875099855 Train Accuracy: 0.625\n",
      "Epoch: 6 Train Loss: 3.7783548030376397 Train Accuracy: 0.671875\n",
      "Epoch: 7 Train Loss: 3.0458649678279355 Train Accuracy: 0.6979166666666666\n",
      "Epoch: 8 Train Loss: 2.5086878935550696 Train Accuracy: 0.7135416666666666\n",
      "Epoch: 9 Train Loss: 2.1122710731165397 Train Accuracy: 0.7291666666666666\n",
      "Epoch: 10 Train Loss: 1.8475115370961508 Train Accuracy: 0.7447916666666666\n"
     ]
    }
   ],
   "source": [
    "training_stats = fit_model(model, batches, SGD(lr=1e-3))"
   ]
  },
  {
   "cell_type": "markdown",
   "metadata": {},
   "source": [
    "Load MNIST Dataset"
   ]
  },
  {
   "cell_type": "code",
   "execution_count": null,
   "metadata": {},
   "outputs": [],
   "source": []
  },
  {
   "cell_type": "code",
   "execution_count": null,
   "metadata": {},
   "outputs": [],
   "source": []
  }
 ],
 "metadata": {
  "kernelspec": {
   "display_name": "tf_gpu",
   "language": "python",
   "name": "tf_gpu"
  },
  "language_info": {
   "codemirror_mode": {
    "name": "ipython",
    "version": 3
   },
   "file_extension": ".py",
   "mimetype": "text/x-python",
   "name": "python",
   "nbconvert_exporter": "python",
   "pygments_lexer": "ipython3",
   "version": "3.8.8-final"
  },
  "orig_nbformat": 2
 },
 "nbformat": 4,
 "nbformat_minor": 2
}